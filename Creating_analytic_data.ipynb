{
  "nbformat": 4,
  "nbformat_minor": 0,
  "metadata": {
    "colab": {
      "provenance": []
    },
    "kernelspec": {
      "name": "python3",
      "display_name": "Python 3"
    },
    "language_info": {
      "name": "python"
    }
  },
  "cells": [
    {
      "cell_type": "code",
      "execution_count": null,
      "metadata": {
        "id": "UBk_sP6SGV77"
      },
      "outputs": [],
      "source": [
        "# Adding variables to Cohort 1 (procedure)\n",
        "import zipfile\n",
        "\n",
        "!unzip /content/procedure.zip -d /content/procedure.csv\n",
        "\n",
        "df1= pd.read_csv(r'/content/procedure_top_100.csv')\n",
        "code_list = df1['code'].tolist()\n",
        "dfa= pd.read_csv(r'/content/cohort1.csv')\n",
        "dfa=dfa[['patient_id','date_x']]\n",
        "df2=dd.read_csv(r'/content/procedure.csv/procedure.csv',dtype={'code': 'object'})\n",
        "df2 = df2[df2['code'].isin(code_list)]\n",
        "df2 = df2.compute()\n",
        "df2=df2.drop(['encounter_id','code_system','principal_procedure_indicator','derived_by_TriNetX','source_id'], axis=1)\n",
        "df2a=pd.merge(dfa,df2, on='patient_id', how='left')\n",
        "df2a.to_csv('procedure_resource_3years', index=False)"
      ]
    },
    {
      "cell_type": "code",
      "source": [
        "#year one procedures\n",
        "from datetime import date,datetime\n",
        "import numpy as np\n",
        "\n",
        "date=pd.to_datetime(df2a['date'], format='%Y%m%d')\n",
        "date_x = pd.to_datetime(df2a['date_x'],format='%Y%m%d')\n",
        "df2a['tb_CKD_procedure']=(pd.to_datetime(date)-pd.to_datetime(date_x))/np.timedelta64(1,'Y')\n",
        "df2b=df2a.loc[(df2a['tb_CKD_procedure']>-1)&(df2a['tb_CKD_procedure']<=0)]\n",
        "df2b.to_csv('year1_procedure_resource.csv')\n",
        "df2b.head()\n",
        "\n",
        "#year2 procedure resource\n",
        "date=pd.to_datetime(df2a['date'], format='%Y%m%d')\n",
        "date_x = pd.to_datetime(df2a['date_x'],format='%Y%m%d')\n",
        "df2a['tb_CKD_procedure']=(pd.to_datetime(date)-pd.to_datetime(date_x))/np.timedelta64(1,'Y')\n",
        "df2b2=df2a.loc[(df2a['tb_CKD_procedure']>-2)&(df2a['tb_CKD_procedure']<=-1)]\n",
        "df2b2.to_csv('year2_procedure_resource.csv')\n",
        "df2b2.head()\n",
        "\n",
        "#year3 procedure resource\n",
        "df2b3=df2a.loc[(df2a['tb_CKD_procedure']>-3)&(df2a['tb_CKD_procedure']<=-2)]\n",
        "df2b3.to_csv('year3_procedure_resource.csv')\n",
        "df2b3.head()"
      ],
      "metadata": {
        "id": "XOBq5dbCCMGk"
      },
      "execution_count": null,
      "outputs": []
    },
    {
      "cell_type": "code",
      "source": [
        "#Creating binary files\n",
        "import pandas as pd\n",
        "\n",
        "df2b1=pd.read_csv('/content/year1_procedure_resource.csv')\n",
        "df2b1= df2b1.drop_duplicates(subset = ['patient_id', 'code'],keep = 'first').reset_index(drop = True)\n",
        "df2b1= df2b1[['patient_id','code']]\n",
        "df2b1.rename(columns = {'code':'p1'}, inplace = True)\n",
        "df_dummies1 = pd.get_dummies(df2b1, columns=['p1'])\n",
        "df_dummies1.to_csv('year1_procedure_matrix.csv')\n",
        "df_dummies1.head()\n",
        "\n",
        "df32b2=pd.read_csv('/content/year2_procedure_resource.csv')\n",
        "df32b2= df32b2.drop_duplicates(subset = ['patient_id', 'code'],keep = 'first').reset_index(drop = True)\n",
        "df32b2= df32b2[['patient_id','code']]\n",
        "df32b2.rename(columns = {'code':'p2'}, inplace = True)\n",
        "df_dummies2 = pd.get_dummies(df32b2, columns=['p2'])\n",
        "df_dummies2.to_csv('year2_procedure_matrix.csv')\n",
        "df_dummies2.head()\n",
        "\n",
        "df32b3=pd.read_csv('/content/year3_procedure_resource.csv')\n",
        "df32b3= df32b3.drop_duplicates(subset = ['patient_id', 'code'],keep = 'first').reset_index(drop = True)\n",
        "df32b3= df32b3[['patient_id','code']]\n",
        "df32b3.rename(columns = {'code':'p3'}, inplace = True)\n",
        "df_dummies3 = pd.get_dummies(df32b3, columns=['p3'])\n",
        "df_dummies3.to_csv('year3_procedure_matrix.csv')\n",
        "df_dummies3.head()"
      ],
      "metadata": {
        "id": "kkghXr6RAET2"
      },
      "execution_count": null,
      "outputs": []
    }
  ]
}