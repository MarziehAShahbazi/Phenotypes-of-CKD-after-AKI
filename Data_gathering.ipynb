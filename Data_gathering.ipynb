{
  "nbformat": 4,
  "nbformat_minor": 0,
  "metadata": {
    "colab": {
      "provenance": []
    },
    "kernelspec": {
      "name": "python3",
      "display_name": "Python 3"
    },
    "language_info": {
      "name": "python"
    }
  },
  "cells": [
    {
      "cell_type": "code",
      "execution_count": null,
      "metadata": {
        "id": "X8v7KCta4QOx"
      },
      "outputs": [],
      "source": [
        "#Sort dates and drop duplicates to find the first occurrence\n",
        "df1=df1.sort_values(by='date', ascending=True, inplace=False)\n",
        "df2_1=df1.drop_duplicates(subset='patient_id', keep='first')"
      ]
    },
    {
      "cell_type": "code",
      "source": [
        "#Comparison of two dates to get CKD-prior-AKI\n",
        "df3=pd.merge(df2_1,df2_2,on='patient_id',how='inner')\n",
        "df3=df3[df3['date_x']>df3['date_y']]"
      ],
      "metadata": {
        "id": "Lh1nQOoj44Ip"
      },
      "execution_count": null,
      "outputs": []
    },
    {
      "cell_type": "code",
      "source": [
        "#adding the time between two dates to the df\n",
        "import numpy as np\n",
        "\n",
        "date_x=pd.to_datetime(df3['date_x'], format='%Y%m%d')\n",
        "date_y = pd.to_datetime(df3['date_y'],format='%Y%m%d')\n",
        "df3['time_between'] =(pd.to_datetime(date_y)-pd.to_datetime(date_x))/np.timedelta64(1,'Y')"
      ],
      "metadata": {
        "id": "zBIJTu8R6ZDw"
      },
      "execution_count": null,
      "outputs": []
    },
    {
      "cell_type": "code",
      "source": [
        "#Find hospitalized patients\n",
        "!unzip /content/encounter.zip -d /content/encounter.csv\n",
        "\n",
        "data5 = pd.read_csv(r'/content/encounter.csv/encounter.csv')\n",
        "df5 = pd.DataFrame(data5)\n",
        "df5= df5.loc[df5['type'] == 'IMP']\n",
        "df5 = df5[['patient_id','encounter_id','start_date','type']]\n",
        "df5 = df5.rename(columns = {\"start_date\":\"hospitalization_date\"})\n",
        "df5['hospitalization_date'] = pd.to_datetime(df5['hospitalization_date'],format='%Y%m%d')\n",
        "df5['hospitalization_date']=(df5['hospitalization_date']).dt.strftime('%Y%m%d')\n",
        "df5.to_csv('hospitalized_total.csv')"
      ],
      "metadata": {
        "id": "eM7LN2-t6d04"
      },
      "execution_count": null,
      "outputs": []
    },
    {
      "cell_type": "code",
      "source": [
        "#CKD_prior3years_AKI hospitalized\n",
        "\n",
        "data5_1=pd.read_csv(r'/content/CKD_prior_3years_AKI.csv')\n",
        "df5_1 = pd.DataFrame(data5_1)\n",
        "df5_2 = pd.merge(df5, df5_1, on=\"patient_id\",how=\"inner\")\n",
        "date_AKI=pd.to_datetime(df5_2['date_y'], format='%Y%m%d')\n",
        "date_H = pd.to_datetime(df5_2['hospitalization_date'],format='%Y%m%d')\n",
        "df5_2['tb_AKI_H'] =(pd.to_datetime(date_H)-pd.to_datetime(date_AKI))/np.timedelta64(1,'Y')\n",
        "\n",
        "df5_2.to_csv('H_CKD_prior_3years_AKI_N0.csv')\n",
        "df5_2.head()"
      ],
      "metadata": {
        "id": "3FAbr_nMD_1t"
      },
      "execution_count": null,
      "outputs": []
    },
    {
      "cell_type": "code",
      "source": [
        "#Patients with admission visits\n",
        "!unzip //content/procedure.zip -d /content/procedure.csv\n",
        "\n",
        "data5 = pd.read_csv(r'/content/procedure.csv/procedure.csv')\n",
        "df5 = pd.DataFrame(data5)\n",
        "subset = df5['code'].isin (['99221', '99222', '99223','99231', '99232', '99233','99218', '99219', '99220','99224', '99225', '99226','G03378','99251', '99252', '99253', '99254', '99255','99234','99235', '99236', '99304' ,'99305', '99306'])\n",
        "df5=df5.loc[subset]\n",
        "df5 = df5[['patient_id','encounter_id','code','date']]\n",
        "df5 = df5.rename(columns = {\"date\":\"admission_visit_date\"})\n",
        "df5['admission_visit_date'] = pd.to_datetime(df5['admission_visit_date'],format='%Y%m%d')\n",
        "df5['admission_visit_date']=(df5['admission_visit_date']).dt.strftime('%Y%m%d')\n",
        "\n",
        "df5.to_csv('AdmissionVisits_total.csv')"
      ],
      "metadata": {
        "id": "x6KP8wm-BPGo"
      },
      "execution_count": null,
      "outputs": []
    },
    {
      "cell_type": "code",
      "source": [
        "#CKD_prior3years_AKI admission visits\n",
        "import pandas as pd\n",
        "import numpy as np\n",
        "\n",
        "df5 = pd.read_csv(r'/content/AdmissionVisits_total.csv')\n",
        "data5_1=pd.read_csv(r'/content/CKD_prior_3years_AKI.csv')\n",
        "df5_1 = pd.DataFrame(data5_1)\n",
        "df5_2 = pd.merge(df5, df5_1, on=\"patient_id\",how=\"inner\")\n",
        "date_AKI=pd.to_datetime(df5_2['date_y'], format='%Y%m%d')\n",
        "date_A = pd.to_datetime(df5_2['admission_visit_date'],format='%Y%m%d')\n",
        "df5_2['tb_AKI_A'] =(pd.to_datetime(date_A)-pd.to_datetime(date_AKI))/np.timedelta64(1,'Y')\n",
        "\n",
        "\n",
        "df5_2.to_csv('A_CKD_prior_3years_AKI_N0.csv')\n",
        "df5_2.head()"
      ],
      "metadata": {
        "id": "BrnWBtj_C2PP"
      },
      "execution_count": null,
      "outputs": []
    }
  ]
}