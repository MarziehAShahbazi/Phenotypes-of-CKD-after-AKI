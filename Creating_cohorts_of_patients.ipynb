{
  "nbformat": 4,
  "nbformat_minor": 0,
  "metadata": {
    "colab": {
      "provenance": []
    },
    "kernelspec": {
      "name": "python3",
      "display_name": "Python 3"
    },
    "language_info": {
      "name": "python"
    }
  },
  "cells": [
    {
      "cell_type": "code",
      "execution_count": null,
      "metadata": {
        "id": "EHx9jFjZEYAm"
      },
      "outputs": [],
      "source": [
        "#cohort 1 \n",
        "#90 days prior to admission visits\n",
        "import pandas as pd\n",
        "import numpy as np\n",
        "\n",
        "df1=pd.read_csv('/content/A_CKD_prior_3years_AKI_N0.csv')\n",
        "date_y = pd.to_datetime(df1['date_y'],format='%Y%m%d')\n",
        "date_a=pd.to_datetime(df1['admission_visit_date'], format='%Y%m%d')\n",
        "df1['time_between AKI and A'] =(pd.to_datetime(date_y)-pd.to_datetime(date_a))/np.timedelta64(1,'D')\n",
        "df1['time_between AKI and A'] = df1['time_between AKI and A'].fillna(0)\n",
        "df1= df1[(df1['time_between AKI and A'] >= -90)&(df1['time_between AKI and A']<=0)]\n",
        "\n",
        "df2=pd.read_csv('/content/H_CKD_prior_3years_AKI_N0.csv')\n",
        "date_y = pd.to_datetime(df2['date_y'],format='%Y%m%d')\n",
        "date_h=pd.to_datetime(df2['hospitalization_date'], format='%Y%m%d')\n",
        "df2['time_between AKI and H'] =(pd.to_datetime(date_y)-pd.to_datetime(date_h))/np.timedelta64(1,'D')\n",
        "df2['time_between AKI and H'] = df2['time_between AKI and H'].fillna(0)\n",
        "df2= df2[(df2['time_between AKI and H'] >= -90)&(df2['time_between AKI and H']<=0)]\n",
        "\n",
        "#sort and drop duplicate keep first\n",
        "df2=df2.drop_duplicates(subset=['patient_id','hospitalization_date'], keep='first')\n",
        "df2=df2.sort_values(by='hospitalization_date', ascending=True, inplace=False)\n",
        "df2=df2.drop_duplicates(subset='patient_id', keep='first')\n",
        "df2.to_csv('H_CKD_prior_3years_AKI_N0_90_FO.csv')\n",
        "\n",
        "df3=pd.merge(df1,df2,on='patient_id', how='outer')\n",
        "df3.to_csv('cohort1.csv')"
      ]
    },
    {
      "cell_type": "code",
      "source": [
        "#cohort 2\n",
        "# CKD_prior3years_AKI hospitalized beyand 90 days\n",
        "import pandas as pd\n",
        "import numpy as np\n",
        "\n",
        "df1=pd.read_csv('/content/A_CKD_prior_3years_AKI_N0.csv')\n",
        "#90 days beyound AKI\n",
        "date_y = pd.to_datetime(df1['date_y'],format='%Y%m%d')\n",
        "date_x = pd.to_datetime(df1['date_x'],format='%Y%m%d')\n",
        "df1['CKD_prior5years']=(date_x-timedelta(1825)).dt.strftime('%Y%m%d')\n",
        "date_a=pd.to_datetime(df1['admission_visit_date'], format='%Y%m%d')\n",
        "df1['time_between AKI and A'] =(pd.to_datetime(date_y)-pd.to_datetime(date_a))/np.timedelta64(1,'D')\n",
        "df1['time_between AKI and A'] = df1['time_between AKI and A'].fillna(0)\n",
        "df1= df1[(df1['time_between AKI and A'] < -90)&(date_a >df1['CKD_prior5years'])]\n",
        "\n",
        "df2=pd.read_csv('/content/H_CKD_prior_3years_AKI_N0.csv')\n",
        "date_y = pd.to_datetime(df2['date_y'],format='%Y%m%d')\n",
        "date_h=pd.to_datetime(df2['hospitalization_date'], format='%Y%m%d')\n",
        "df2['CKD_prior5years']=(date_x-timedelta(1825)).dt.strftime('%Y%m%d')\n",
        "df2['time_between AKI and H'] =(pd.to_datetime(date_y)-pd.to_datetime(date_h))/np.timedelta64(1,'D')\n",
        "df2['time_between AKI and H'] = df2['time_between AKI and H'].fillna(0)\n",
        "df2= df2[(df2['time_between AKI and H'] < -90)&(date_h>df2['CKD_prior5years'])]\n",
        "\n",
        "#sort and drop duplicate keep first\n",
        "df2=df2.drop_duplicates(subset=['patient_id','hospitalization_date'], keep='first')\n",
        "df2=df2.sort_values(by='hospitalization_date', ascending=True, inplace=False)\n",
        "df2=df2.drop_duplicates(subset='patient_id', keep='first')\n",
        "\n",
        "df2.to_csv('H_CKD_prior_3years_AKI_N0_beyond_90_FO.csv')\n",
        "\n",
        "df3=pd.merge(df1,df2,on='patient_id', how='outer')\n",
        "df3.to_csv('cohort2_part1.csv')\n",
        "\n",
        "#cohort 2 part 2\n",
        "df1=pd.read_csv('/content/CKD_prior_AKI_N0.CSV')\n",
        "date_x = pd.to_datetime(df1['date_x'],format='%Y%m%d')\n",
        "df1['CKD_prior5years']=(date_x-timedelta(1825)).dt.strftime('%Y%m%d')\n",
        "date_y = pd.to_datetime(df1['date_y'],format='%Y%m%d')\n",
        "df1=df1[df1['CKD_prior5years']< date_y]\n",
        "\n",
        "df2=pd.read_csv('/content/hospitalized_total.csv')\n",
        "df3=pd.read_csv('/content/AdmissionVisits_total.csv')\n",
        "\n",
        "df1_2=pd.merge(df1,df2,on='patient_id',how='left')\n",
        "date_h=pd.to_datetime(df1_2['hospitalization_date'], format='%Y%m%d')\n",
        "df1_2=df1_2[date_h >df1_2['CKD_prior5years']]\n",
        "df1_2=df1_2.drop_duplicates(subset=['patient_id','hospitalization_date'], keep='first')\n",
        "df1_2=df1_2.sort_values(by='hospitalization_date', ascending=True, inplace=False)\n",
        "df1_2=df1_2.drop_duplicates(subset='patient_id', keep='first')\n",
        "\n",
        "df1_3=pd.merge(df1,df3,on='patient_id',how='left')\n",
        "date_a=pd.to_datetime(df1_3['admission_visit_date'], format='%Y%m%d')\n",
        "df1_3=df1_3[date_a >df1_3['CKD_prior5years']]\n",
        "df1_3=df1_3.drop_duplicates(subset=['patient_id','admission_visit_date'], keep='first')\n",
        "df1_3=df1_3.sort_values(by='admission_visit_date', ascending=True, inplace=False)\n",
        "df1_3=df1_3.drop_duplicates(subset='patient_id', keep='first')\n",
        "\n",
        "df3_3=pd.merge(df1_2,df1_3,on='patient_id',how='outer')\n",
        "df3_3.to_csv('cohort2_part2.csv')\n",
        "\n",
        "df2=pd.read_csv('/content/cohort2_part2.csv')\n",
        "df3=pd.read_csv('/content/cohort2_part1.csv')\n",
        "df4=pd.merge(df2,df3,on='patient_id',how='outer')\n",
        "df4.to_csv('cohort2.csv')\n",
        "df4.head()"
      ],
      "metadata": {
        "id": "vc6sGQlJEuic"
      },
      "execution_count": null,
      "outputs": []
    },
    {
      "cell_type": "code",
      "source": [
        "# cohort 3 (CKD NO AKI)\n",
        "import pandas as pd\n",
        "from numpy import nan\n",
        "\n",
        "df1=pd.read_csv('/content/CKD_ND.csv')\n",
        "df2=pd.read_csv('/content/AKI_ND.csv')\n",
        "df4 = pd.merge(df1, df2, on=\"patient_id\",how=\"left\")\n",
        "df4_1 = df4.dropna(subset=['date_y'])\n",
        "df4_2 = df4.drop(df4_1.index)\n",
        "df4_2.to_csv('cohort3.csv')"
      ],
      "metadata": {
        "id": "iexaD9-hE03X"
      },
      "execution_count": null,
      "outputs": []
    }
  ]
}