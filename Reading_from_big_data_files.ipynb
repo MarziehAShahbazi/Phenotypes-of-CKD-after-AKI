{
  "nbformat": 4,
  "nbformat_minor": 0,
  "metadata": {
    "colab": {
      "provenance": []
    },
    "kernelspec": {
      "name": "python3",
      "display_name": "Python 3"
    },
    "language_info": {
      "name": "python"
    }
  },
  "cells": [
    {
      "cell_type": "code",
      "execution_count": null,
      "metadata": {
        "id": "g1wCRwfi2Noq"
      },
      "outputs": [],
      "source": [
        "#Convert zip files to csv files\n",
        "import zipfile\n",
        "!unzip /content/diagnosis.zip -d /content/diagnosis.csv"
      ]
    },
    {
      "cell_type": "code",
      "source": [
        "#Filter CKD patients\n",
        "import dask.dataframe as dd\n",
        "import pandas as pd\n",
        "\n",
        "df1=dd.read_csv(r'/content/diagnosis.csv/diagnosis.csv')\n",
        "df1=df1.loc[df1['code'].str.contains('N18')]\n",
        "df1 = df1.compute()\n",
        "df1.head()"
      ],
      "metadata": {
        "id": "LhQeaihS3h7H"
      },
      "execution_count": null,
      "outputs": []
    },
    {
      "cell_type": "code",
      "source": [
        "#AKI patients\n",
        "df1=dd.read_csv(r'/content/diagnosis.csv/diagnosis.csv')\n",
        "df1=df1.loc[df1['code'].str.contains('N17')]\n",
        "df1 = df1.compute()\n",
        "df1.head()"
      ],
      "metadata": {
        "id": "U9hUAkpD3j9q"
      },
      "execution_count": null,
      "outputs": []
    }
  ]
}